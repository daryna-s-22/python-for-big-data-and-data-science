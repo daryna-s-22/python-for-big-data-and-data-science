{
  "cells": [
    {
      "cell_type": "markdown",
      "metadata": {
        "id": "p9wwt0LZzNvn"
      },
      "source": [
        "# I. Змінні та памʼять."
      ]
    },
    {
      "cell_type": "markdown",
      "metadata": {
        "id": "HTJrrm95xSV9"
      },
      "source": [
        "1. Створити змінні, що посилаються на два цілих числа, що однакові за значенням, де значення належить проміжку від -5 до 256. Перевірте, чи будуть ці змінні рівні тільки за значенням або ж ще будуть посилатися на один і той самий обʼєкт в памʼяті? Наведіть код та дайте текстову відповідь нижче."
      ]
    },
    {
      "cell_type": "code",
      "execution_count": 5,
      "metadata": {
        "id": "TATni2vzayjG"
      },
      "outputs": [
        {
          "data": {
            "text/plain": [
              "0"
            ]
          },
          "execution_count": 5,
          "metadata": {},
          "output_type": "execute_result"
        }
      ],
      "source": [
        "int_var1 = 4\n",
        "int_var2 = 4\n",
        "id(int_var1) - id(int_var2)"
      ]
    },
    {
      "cell_type": "markdown",
      "metadata": {
        "id": "zfRG_o3WbRdg"
      },
      "source": [
        "Змінні рівні за значенням та посилаються на один той самий об'єкт. Оскільки заданий числовий проміжок є найчастіше використовуваним, тому його оптимізували. Ми це можемо побачити з їх айдішок. Код наведено вище."
      ]
    },
    {
      "cell_type": "markdown",
      "metadata": {
        "id": "ISORzt6M3vAt"
      },
      "source": [
        "2. За допомогою якої функції можна перевірити належність змінної до вказаного типу даних (напр. чи змінна True посилається на значення булевого та цілочисленого типу)?"
      ]
    },
    {
      "cell_type": "code",
      "execution_count": 7,
      "metadata": {
        "id": "9vL9CFaMbfyo"
      },
      "outputs": [
        {
          "data": {
            "text/plain": [
              "(True, True)"
            ]
          },
          "execution_count": 7,
          "metadata": {},
          "output_type": "execute_result"
        }
      ],
      "source": [
        "isinstance(True, int), isinstance(True, bool)"
      ]
    },
    {
      "cell_type": "markdown",
      "metadata": {
        "id": "tRxugKAxwYLw"
      },
      "source": [
        "# II. Цілі числа та числа з рухомою комою"
      ]
    },
    {
      "cell_type": "markdown",
      "metadata": {
        "id": "NLHkgd5Gybc8"
      },
      "source": [
        "3. Створити дві змінні, що посилаються на будь-які ціле число та число з рухомою комою та продемонструвати такі арифметичні операції: додавання, віднімання, ділення, множення, ділення без залишку, ділення по модулю, приведення до ступеню. Всі результати операцій вивести на екран."
      ]
    },
    {
      "cell_type": "code",
      "execution_count": 4,
      "metadata": {
        "id": "nb8u_3pjb2cA"
      },
      "outputs": [
        {
          "name": "stdout",
          "output_type": "stream",
          "text": [
            "4.0\n",
            "12.0\n",
            "-32.0\n",
            "65536.0\n",
            "0.000244140625\n",
            "-1.0\n",
            "-2.0\n",
            "-0.0\n"
          ]
        }
      ],
      "source": [
        "int_var = 8\n",
        "float_var = -4.0\n",
        "sum = int_var + float_var\n",
        "subtr = int_var - float_var\n",
        "mult = int_var * float_var\n",
        "exalt1 = float_var ** int_var\n",
        "exalt2 = int_var ** float_var\n",
        "div1 = float_var // int_var\n",
        "div2 = int_var / float_var\n",
        "div3 = int_var % float_var \n",
        "print(sum)\n",
        "print(subtr)\n",
        "print(mult)\n",
        "print(exalt1)\n",
        "print(exalt2)\n",
        "print(div1)\n",
        "print(div2)\n",
        "print(div3)"
      ]
    },
    {
      "cell_type": "markdown",
      "metadata": {
        "id": "1kBClKgPzZnC"
      },
      "source": [
        "4. Використовуючи змінні з вправи 3, продемонструйте механізм явного перетворення типів, де числа з рухомою комою перетворюються на цілі числа. Також визначте змінну, що посилається на значення булевого типу і спробуйте явно привести її до цілого числа."
      ]
    },
    {
      "cell_type": "code",
      "execution_count": 29,
      "metadata": {
        "id": "TbqJbkeUcKsD"
      },
      "outputs": [
        {
          "name": "stdout",
          "output_type": "stream",
          "text": [
            "-4\n",
            "-4\n",
            "-4.0\n",
            "1\n"
          ]
        }
      ],
      "source": [
        "float_var = -4.0\n",
        "new_var1 = int(float_var)\n",
        "new_var2 = round(float_var)\n",
        "new_var3 = round(float_var, 1)\n",
        "print(new_var1)\n",
        "print(new_var2)\n",
        "print(new_var3)\n",
        "\n",
        "bool_var = True\n",
        "new_var4 = int(True)\n",
        "print(new_var4)"
      ]
    },
    {
      "cell_type": "markdown",
      "metadata": {
        "id": "EVJ7AflwxrZi"
      },
      "source": [
        "# IІІ. Рядки (String)."
      ]
    },
    {
      "cell_type": "markdown",
      "metadata": {
        "id": "_s5ECzz9zE61"
      },
      "source": [
        "5. Створити пустий рядок двома різними способами."
      ]
    },
    {
      "cell_type": "code",
      "execution_count": 80,
      "metadata": {
        "id": "fkZJHu9Scvc-"
      },
      "outputs": [
        {
          "name": "stdout",
          "output_type": "stream",
          "text": [
            "a\n",
            "\n",
            "a\n",
            "\n",
            "a\n",
            "a\n"
          ]
        }
      ],
      "source": [
        "print(\"a\")\n",
        "\n",
        "str_var=\"\"\n",
        "print(str_var)\n",
        "\n",
        "print(\"a\")\n",
        "\n",
        "str_var2 = ''\n",
        "print(str_var2)\n",
        "\n",
        "print(\"a\")\n",
        "print(\"a\")\n"
      ]
    },
    {
      "cell_type": "markdown",
      "metadata": {
        "id": "4Bdn9J3MzLf_"
      },
      "source": [
        "6. Створити рядок з апострофом. Зробити його сирим. Вивести обидва рядка на екран."
      ]
    },
    {
      "cell_type": "code",
      "execution_count": 73,
      "metadata": {
        "id": "ivji_hsmc0GH"
      },
      "outputs": [
        {
          "name": "stdout",
          "output_type": "stream",
          "text": [
            "Alexander's daughter \n",
            "\n",
            "Alexander's daughter \\n\n"
          ]
        }
      ],
      "source": [
        "str_var1 = \"Alexander's daughter \\n\"\n",
        "str_var2 = r\"Alexander's daughter \\n\"\n",
        "print(str_var1)\n",
        "print(str_var2)"
      ]
    },
    {
      "cell_type": "markdown",
      "metadata": {
        "id": "bg_d8wM4z8dS"
      },
      "source": [
        "7. Створити змінну, що буде посилатися на Ваше прізвище латинкою. Створити форматований рядок, який буде мати вигляд \"My surname is ______\", де на місці нижніх підкреслень буде Ваше прізвище зі змінної."
      ]
    },
    {
      "cell_type": "code",
      "execution_count": 77,
      "metadata": {
        "id": "kuxFgpWndACq"
      },
      "outputs": [
        {
          "name": "stdout",
          "output_type": "stream",
          "text": [
            "My surname is Savarina.\n"
          ]
        }
      ],
      "source": [
        "str_var = \"Savarina\"\n",
        "format_var = f\"My surname is {str_var}.\"\n",
        "print(format_var)"
      ]
    },
    {
      "cell_type": "markdown",
      "metadata": {
        "id": "1Nc6RqvQ0hxU"
      },
      "source": [
        "8. Маючи рядок \"My dog is crazy.\" перетворити його на список [\"my\", \"dog\", \"is\", \"crazy\"]"
      ]
    },
    {
      "cell_type": "code",
      "execution_count": 81,
      "metadata": {
        "id": "w1Ya4RqedUhw"
      },
      "outputs": [
        {
          "name": "stdout",
          "output_type": "stream",
          "text": [
            "['my', 'dog', 'is', 'crazy']\n"
          ]
        }
      ],
      "source": [
        "str_var = \"My dog is crazy.\"\n",
        "list_var = str_var.lower().replace(\".\", \"\").split()\n",
        "print(list_var)"
      ]
    },
    {
      "cell_type": "markdown",
      "metadata": {
        "id": "GYVqN9uP1D4n"
      },
      "source": [
        "# IV. Робота зі списками."
      ]
    },
    {
      "cell_type": "markdown",
      "metadata": {
        "id": "7-DeDunw2sO-"
      },
      "source": [
        "9. Створити список двома різними за синтаксисом способами. За допомогою вбудованої функції обчисліть довжину одного з них."
      ]
    },
    {
      "cell_type": "code",
      "execution_count": 30,
      "metadata": {
        "id": "zxg06Uuxdyoh"
      },
      "outputs": [
        {
          "data": {
            "text/plain": [
              "6"
            ]
          },
          "execution_count": 30,
          "metadata": {},
          "output_type": "execute_result"
        }
      ],
      "source": [
        "list_var1 = [0, 1, 2, 3, 4, 5]\n",
        "list_var2 = list((1, 2, 3))\n",
        "len(list_var1)"
      ]
    },
    {
      "cell_type": "markdown",
      "metadata": {
        "id": "8vmGUTjL22gI"
      },
      "source": [
        "10. Створіть два списка та за допомогою спеціального методу додайте другий з них в якості останнього елемента першого."
      ]
    },
    {
      "cell_type": "code",
      "execution_count": 68,
      "metadata": {
        "id": "uHtjWYw7d7hm"
      },
      "outputs": [
        {
          "name": "stdout",
          "output_type": "stream",
          "text": [
            "[1, 2, 3, [4, 5, 6]]\n"
          ]
        }
      ],
      "source": [
        "list_var1 = [1, 2, 3]\n",
        "list_var2 = [4, 5, 6]\n",
        "list_var1.append(list_var2)\n",
        "print(list_var1)"
      ]
    },
    {
      "cell_type": "markdown",
      "metadata": {
        "id": "JC3BkD-67_--"
      },
      "source": [
        "11. Створіть список, де елементами цього списку також є списки. Отримай перший елемент з останнього рядка та виведи значення на екран."
      ]
    },
    {
      "cell_type": "code",
      "execution_count": 32,
      "metadata": {
        "id": "Kz2jZHsGeLlz"
      },
      "outputs": [
        {
          "name": "stdout",
          "output_type": "stream",
          "text": [
            "7\n"
          ]
        }
      ],
      "source": [
        "new_list_var = [\n",
        "    [1, 2, 3],\n",
        "    [4, 5, 6],\n",
        "    [7, 8, 9]\n",
        "]\n",
        "new_var = len(new_list_var) - 1\n",
        "\n",
        "last_element = new_list_var[len(new_list_var) - 1]\n",
        "first_element_of_last_element = last_element[0]\n",
        "\n",
        "print(first_element_of_last_element)"
      ]
    },
    {
      "cell_type": "markdown",
      "metadata": {
        "id": "JA47PKTv8zFK"
      },
      "source": [
        "12. Створіть список з десяти елементів різного типу. Отримайте всі елементи, окрім двох перших та двох останніх та збережіть їх в новій змінній."
      ]
    },
    {
      "cell_type": "code",
      "execution_count": null,
      "metadata": {},
      "outputs": [
        {
          "name": "stdout",
          "output_type": "stream",
          "text": [
            "[3.14, True, [1, 2, 3], (4, 5), {'key': 'value'}, None]\n"
          ]
        }
      ],
      "source": [
        "list_var = [42, \"Hello\", 3.14, True, [1, 2, 3], (4, 5), {\"key\": \"value\"}, None, \"Python\", {0, 100}]\n",
        "new_list_var = list_var[2:-2]\n",
        "print(new_list_var)"
      ]
    },
    {
      "cell_type": "markdown",
      "metadata": {
        "id": "pCjR1dJb1Qbi"
      },
      "source": [
        "# V. Робота з кортежами."
      ]
    },
    {
      "cell_type": "markdown",
      "metadata": {
        "id": "fAZCxAX06R_k"
      },
      "source": [
        "14. Створити кортеж з один елементом."
      ]
    },
    {
      "cell_type": "code",
      "execution_count": 54,
      "metadata": {
        "id": "H7d82WkQev3e"
      },
      "outputs": [
        {
          "name": "stdout",
          "output_type": "stream",
          "text": [
            "(1,)\n"
          ]
        }
      ],
      "source": [
        "tuple_var = (1,)\n",
        "print(tuple_var)"
      ]
    },
    {
      "cell_type": "markdown",
      "metadata": {
        "id": "8LCtYcmI6w1M"
      },
      "source": [
        "15. Порівняйте список та кортеж. Назвіть схожості та відмінності, випадки використання."
      ]
    },
    {
      "cell_type": "markdown",
      "metadata": {
        "id": "fUsN1Hnue0C6"
      },
      "source": [
        "Відмінності між списком (list) та кортежем (tuple):\n",
        "\n",
        "Мутабельність списку - змінна (mutable), кортежу - незмінна (immutable).\n",
        "\n",
        "Синтаксис списку. Використовуються квадратні дужки [], наприклад: my_list = [1, 2, 3].\n",
        "Синтаксис кортежу. Використовуються круглі дужки (), наприклад: my_tuple = (1, 2, 3). \n",
        "Для кортежу з одним елементом потрібна кома: (42,).\n",
        "\n",
        "Кортеж працює швидше за список, оскільки він незмінний і займає менше пам'яті.\n",
        "Список повільніший через можливість зміни.\n",
        "\n",
        "Кортеж займає менше пам'яті, оскільки має фіксований розмір.\n",
        "Список займає більше пам'яті через динамічну зміну розміру.\n",
        "\n",
        "Методи для списків: append(), extend(), insert(), remove(), pop(), sort(), reverse() тощо.\n",
        "Методи для кортежів (тільки 2): count() та index().\n",
        "\n",
        "Список використовується для динамічних даних, які часто змінюються.\n",
        "Кортеж використовується для незмінних даних, коли важлива ефективність та безпека даних."
      ]
    },
    {
      "cell_type": "markdown",
      "metadata": {
        "id": "m0xrwFijAmDD"
      },
      "source": [
        "16. Створіть кортеж з 11ти елементів чисел з рухомою комою та отримайте кожен парний за індексом елемент в зворотньому порядку. Наприклад, маючи (1.2, 2.3, 3.3, 4.3, 5.3, 6.3, 7.3, 8.3, 9.3, 0.3), отримати (0.3, 8.3, 6.3, 4.3, 2.3). Результат збережіть в нову змінну та виведіть на екран."
      ]
    },
    {
      "cell_type": "code",
      "execution_count": 53,
      "metadata": {
        "id": "p-5DAH6XfAGA"
      },
      "outputs": [
        {
          "name": "stdout",
          "output_type": "stream",
          "text": [
            "(10.3, 9.3, 7.3, 5.3, 3.3, 1.2)\n"
          ]
        }
      ],
      "source": [
        "tuple_var = (1.2, 2.3, 3.3, 4.3, 5.3, 6.3, 7.3, 8.3, 9.3, 0.3, 10.3)\n",
        "new_tuple_var = tuple_var[-1::-2]\n",
        "print(new_tuple_var)"
      ]
    },
    {
      "cell_type": "markdown",
      "metadata": {
        "id": "rW_I9dt3x6cW"
      },
      "source": [
        "# VI. Множини (Set)."
      ]
    },
    {
      "cell_type": "markdown",
      "metadata": {
        "id": "zNjRLHLw1Bgg"
      },
      "source": [
        "17. Створити множину без елементів. Після цого за допомогою методу додайте кілька різних елементів до множини. Чи множини є змінним типом даних?"
      ]
    },
    {
      "cell_type": "code",
      "execution_count": 55,
      "metadata": {
        "id": "KOv7zc2Kfo4N"
      },
      "outputs": [
        {
          "name": "stdout",
          "output_type": "stream",
          "text": [
            "{'Hello', 1, 2.14}\n"
          ]
        }
      ],
      "source": [
        "set_var = set()\n",
        "set_var.add(\"Hello\")\n",
        "set_var.add(1)\n",
        "set_var.add(2.14)\n",
        "print(set_var)"
      ]
    },
    {
      "cell_type": "markdown",
      "metadata": {
        "id": "vxS6dVYiftZQ"
      },
      "source": [
        "Так, множини є mutable"
      ]
    },
    {
      "cell_type": "markdown",
      "metadata": {
        "id": "gHpT0Zw_1HEF"
      },
      "source": [
        "18. Створити множину, маючи список my_list = [1, 1, 2, 67, 67, 8, 9]. Пояснити, чому \"зникли\" деякі елементи."
      ]
    },
    {
      "cell_type": "code",
      "execution_count": 56,
      "metadata": {
        "id": "qCN4uvJ_fxmu"
      },
      "outputs": [
        {
          "name": "stdout",
          "output_type": "stream",
          "text": [
            "{1, 2, 67, 8, 9}\n"
          ]
        }
      ],
      "source": [
        "list_var = [1, 1, 2, 67, 67, 8, 9]\n",
        "set_var = set(list_var)\n",
        "print(set_var)"
      ]
    },
    {
      "cell_type": "markdown",
      "metadata": {
        "id": "tFNc1e20fyny"
      },
      "source": [
        "Зникли дубльовані значення, оскільки множина є збором унікальних значень."
      ]
    },
    {
      "cell_type": "markdown",
      "metadata": {
        "id": "SRMkGizS1UwY"
      },
      "source": [
        "19. Створіть дві множини. Продемонстуйте над ними операції: обʼєднання, різниці, пересічі та симетричної різниці. Використовуйте методи, що не змінюють множини, а створюють нові."
      ]
    },
    {
      "cell_type": "code",
      "execution_count": null,
      "metadata": {
        "id": "h0T-VuDnf3Ri"
      },
      "outputs": [
        {
          "name": "stdout",
          "output_type": "stream",
          "text": [
            "{1, 2, 3, 4, 5, 6, 7, 8}\n",
            "{1, 2, 3}\n",
            "{4, 5}\n",
            "{1, 2, 3, 6, 7, 8}\n"
          ]
        }
      ],
      "source": [
        "set_var1 = {1, 2, 3, 4, 5}\n",
        "set_var2 = {4, 5, 6, 7, 8}\n",
        "\n",
        "union_set = set_var1.union(set_var2)\n",
        "print(union_set)\n",
        "\n",
        "diff_set = set_var1.difference(set_var2)\n",
        "print(diff_set)\n",
        "\n",
        "intersection_set = set_var1.intersection(set_var2)\n",
        "print(intersection_set)\n",
        "\n",
        "symm_diff_set = set_var1.symmetric_difference(set_var2)\n",
        "print(symm_diff_set)"
      ]
    },
    {
      "cell_type": "markdown",
      "metadata": {
        "id": "kWc8gkzTx7Ea"
      },
      "source": [
        "# VII. Словники (Dictionary)."
      ]
    },
    {
      "cell_type": "markdown",
      "metadata": {
        "id": "i5FLwj-B2ybQ"
      },
      "source": [
        "20. Створіть пустий словник. До нього додайте чотири пари елементів такі, щоб їхні ключі були різних типів. Чи може список бути ключем? Чому?"
      ]
    },
    {
      "cell_type": "code",
      "execution_count": 57,
      "metadata": {
        "id": "hxgv3BzrgLAV"
      },
      "outputs": [
        {
          "name": "stdout",
          "output_type": "stream",
          "text": [
            "{'name': 'str', 1: 'int', 3.14: 'float', (1, 2): 'tuple'}\n"
          ]
        }
      ],
      "source": [
        "dict_var = {}\n",
        "dict_var[\"name\"] = \"str\"\n",
        "dict_var[1] = \"int\"      \n",
        "dict_var[3.14] = \"float\"\n",
        "dict_var[(1, 2)] = \"tuple\"\n",
        "print(dict_var)\n"
      ]
    },
    {
      "cell_type": "markdown",
      "metadata": {
        "id": "zwa7UVN-gR3m"
      },
      "source": [
        "Не може, оскільки список змінний тип даних."
      ]
    },
    {
      "cell_type": "markdown",
      "metadata": {
        "id": "WM_pMlJsgoNf"
      },
      "source": [
        "21. Створіть словник, де значенням в одній з пар теж буде словник, який теж має вкладений словник. Виведіть на екран значення, що міститься в словнику, що знаходиться на найнижчому рівні ієрархії вкладеності (найбільш внутрішній)."
      ]
    },
    {
      "cell_type": "code",
      "execution_count": 67,
      "metadata": {
        "id": "60dlP7IHhAy4"
      },
      "outputs": [
        {
          "name": "stdout",
          "output_type": "stream",
          "text": [
            "value5\n"
          ]
        }
      ],
      "source": [
        "dict_var = {\n",
        "    \"key1\": \"value1\",\n",
        "    \"key2\": {\n",
        "        \"key3\": \"value3\",\n",
        "        \"key4\": {\n",
        "            \"key5\":\"value5\"\n",
        "        }\n",
        "    },\n",
        "    \"key6\": \"value6\"\n",
        "}\n",
        "new_var = dict_var[\"key2\"][\"key4\"][\"key5\"]\n",
        "print(new_var)"
      ]
    },
    {
      "cell_type": "markdown",
      "metadata": {
        "id": "xOZP0hkx6cCr"
      },
      "source": [
        "# Вітаю! Ви велика(ий) молодець, що впоралась(вся). Похваліть себе та побалуйте чимось приємним. Я Вами пишаюся."
      ]
    }
  ],
  "metadata": {
    "colab": {
      "provenance": []
    },
    "kernelspec": {
      "display_name": "Python 3",
      "name": "python3"
    },
    "language_info": {
      "codemirror_mode": {
        "name": "ipython",
        "version": 3
      },
      "file_extension": ".py",
      "mimetype": "text/x-python",
      "name": "python",
      "nbconvert_exporter": "python",
      "pygments_lexer": "ipython3",
      "version": "3.11.9"
    }
  },
  "nbformat": 4,
  "nbformat_minor": 0
}
