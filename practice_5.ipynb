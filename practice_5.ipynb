{
  "cells": [
    {
      "cell_type": "markdown",
      "metadata": {
        "id": "5qV_sehzFCTp"
      },
      "source": [
        "# I. OOP"
      ]
    },
    {
      "cell_type": "markdown",
      "metadata": {
        "id": "tx_U_hOALyfg"
      },
      "source": [
        "1. (6б). Створіть клас Building, додайте три атрибути, один з яких має значення за замовчуванням та два методи на свій розсуд."
      ]
    },
    {
      "cell_type": "code",
      "execution_count": 80,
      "metadata": {
        "id": "-Vf895KaL88N"
      },
      "outputs": [],
      "source": [
        "class Building:\n",
        "    def __init__(self, identifier, type, location = \"Unknown\"):\n",
        "        self.identifier = identifier\n",
        "        self.type = type\n",
        "        self.location = location\n",
        "    \n",
        "    def __str__(self):\n",
        "        return f\"Building: {self.identifier}, {self.type}, {self.location}\"\n",
        "    \n",
        "    def change_location(self, new_location):\n",
        "        self.location = new_location\n",
        "        return f\"Location of {self.identifier} has been changed to {self.location}\"\n"
      ]
    },
    {
      "cell_type": "markdown",
      "metadata": {
        "id": "X_UlOMB0L93w"
      },
      "source": [
        "2. (2б). Створіть два обʼєкти цього класу, де один з обʼєктів створюється із дефолтним значенням атрибуту. На одному обʼєкті отримайте значення його атрибуту, а на іншому викличте один з його методів."
      ]
    },
    {
      "cell_type": "code",
      "execution_count": 81,
      "metadata": {
        "id": "7gBu0ESOMCpG"
      },
      "outputs": [
        {
          "name": "stdout",
          "output_type": "stream",
          "text": [
            "Building: 0001, theater, Unknown\n",
            "Unknown\n",
            "Location of 0003 has been changed to Kyiv\n"
          ]
        }
      ],
      "source": [
        "class Building:\n",
        "    def __init__(self, identifier, type, location = \"Unknown\"):\n",
        "        self.identifier = identifier\n",
        "        self.type = type\n",
        "        self.location = location\n",
        "    \n",
        "    def __str__(self):\n",
        "        return f\"Building: {self.identifier}, {self.type}, {self.location}\"\n",
        "    \n",
        "    def change_location(self, new_location):\n",
        "        self.location = new_location\n",
        "        return f\"Location of {self.identifier} has been changed to {self.location}\"\n",
        "\n",
        "\n",
        "building1 = Building(identifier = \"0001\", type = \"theater\")\n",
        "building2 = Building(identifier = \"0003\", type = \"museum\", location = \"Lviv\")\n",
        "\n",
        "print(building1)\n",
        "\n",
        "print(building1.location)\n",
        "print(building2.change_location(\"Kyiv\"))"
      ]
    },
    {
      "cell_type": "markdown",
      "metadata": {
        "id": "HoqSCZt1MHn5"
      },
      "source": [
        "3. (5б). Створіть клас, де атрибути мають різні рівні доступу. Спробуйте отримати їхні значення та опишіть результати."
      ]
    },
    {
      "cell_type": "code",
      "execution_count": 82,
      "metadata": {
        "id": "r9b3vJxBMSPV"
      },
      "outputs": [
        {
          "name": "stdout",
          "output_type": "stream",
          "text": [
            "3\n",
            "2\n",
            "Error: 'MyClass' object has no attribute '__private_attribute'\n",
            "1\n"
          ]
        }
      ],
      "source": [
        "class MyClass:\n",
        "\n",
        "    def __init__(self, public_attribute, protected_attribute, private_attribute):\n",
        "        self.public_attribute = public_attribute\n",
        "        self._protected_attribute = protected_attribute\n",
        "        self.__private_attribute = private_attribute\n",
        "\n",
        "    def get_private_attribute(self):\n",
        "        return self.__private_attribute\n",
        "\n",
        "\n",
        "item = MyClass(3,2,1)\n",
        "print(item.public_attribute)\n",
        "print(item._protected_attribute)\n",
        "\n",
        "try:\n",
        "    print(item.__private_attribute)\n",
        "except AttributeError as e:\n",
        "    print(f\"Error: {e}\")\n",
        "\n",
        "print(item.get_private_attribute())\n"
      ]
    },
    {
      "cell_type": "markdown",
      "metadata": {
        "id": "5op2m2vgMSkZ"
      },
      "source": [
        "4. (7б). Як ви розумієте термін self? Для чого використовується метод __init __?"
      ]
    },
    {
      "cell_type": "markdown",
      "metadata": {
        "id": "DyiPqNRvMasx"
      },
      "source": [
        "1. Зарезервоване слово, вказівник на поточний об'єкт.\n",
        "2. Для ініціалізації атрибутів об'єкту класу; побудови структури об'єкту."
      ]
    },
    {
      "cell_type": "markdown",
      "metadata": {
        "id": "-6X8EGfjMd2y"
      },
      "source": [
        "5. (9б). Створіть клас 3D-фігура без атрибутів, з методом get_volume для отримання об'єму фігури, що повертає 0 та __add __, який приймає self та other в якості аргументів, а повертає суму об'ємів 3d-фігур self та other."
      ]
    },
    {
      "cell_type": "code",
      "execution_count": 83,
      "metadata": {
        "id": "4rvO_wYUMaEr"
      },
      "outputs": [],
      "source": [
        "class Shape3D:\n",
        "    def __init__(self):\n",
        "        pass\n",
        "\n",
        "    def get_volume(self):\n",
        "        return 0\n",
        "\n",
        "    def __add__(self, other):\n",
        "        if isinstance(other, Shape3D):\n",
        "            return self.get_volume() + other.get_volume()\n",
        "        else:\n",
        "            raise TypeError(\"Only add Shape3D objects!\")"
      ]
    },
    {
      "cell_type": "markdown",
      "metadata": {
        "id": "SFcKnnv5Mo_z"
      },
      "source": [
        "6. (11б). Створіть 2 дочірніх класи від 3d-фігура: Циліндр та Куб, які мають атрибути, необхідні для розрахунку об'єму. Визначте метод get_volume в кожному з них так, щоби вони розраховували об'єм у залежності від формули для кожного типу фігури. Створіть обʼєкт класу Циліндр та обʼєкт класу Куб. Виконайте операцію суми за допомогою оператора + між ними, аби знайти сумарний об'єм."
      ]
    },
    {
      "cell_type": "code",
      "execution_count": 84,
      "metadata": {
        "id": "H3GVNr69Muf3"
      },
      "outputs": [
        {
          "name": "stdout",
          "output_type": "stream",
          "text": [
            "Volume of cylinder: 3.14\n",
            "Volume of cube: 64\n",
            "Total volume: 67.14\n"
          ]
        }
      ],
      "source": [
        "import math\n",
        "\n",
        "class Shape3D:\n",
        "    def __init__(self):\n",
        "        pass\n",
        "\n",
        "    def get_volume(self):\n",
        "        return 0\n",
        "\n",
        "    def __add__(self, other):\n",
        "        if isinstance(other, Shape3D):\n",
        "            return self.get_volume() + other.get_volume()\n",
        "        else:\n",
        "            raise TypeError(\"Only add Shape3D objects!\")\n",
        "\n",
        "\n",
        "class Cylinder(Shape3D):\n",
        "    def __init__(self, radius, height):\n",
        "        super().__init__()\n",
        "        self.radius = radius\n",
        "        self.height = height\n",
        "\n",
        "    def get_volume(self):\n",
        "        return math.pi * self.radius**2 * self.height\n",
        "\n",
        "class Cube(Shape3D):\n",
        "    def __init__(self, side_length):\n",
        "        super().__init__()\n",
        "        self.side_length = side_length\n",
        "\n",
        "    def get_volume(self):\n",
        "        return self.side_length ** 3\n",
        "\n",
        "cylinder = Cylinder(1, 1)\n",
        "cube = Cube(4)\n",
        "\n",
        "print(f\"Volume of cylinder: {cylinder.get_volume():.2f}\")\n",
        "print(f\"Volume of cube: {cube.get_volume()}\")\n",
        "\n",
        "total_volume = cylinder + cube\n",
        "print(f\"Total volume: {total_volume:.2f}\")\n"
      ]
    },
    {
      "cell_type": "markdown",
      "metadata": {
        "id": "HCvR206YMvLK"
      },
      "source": [
        "7. (3б). Продемонструйте різницю між isinstance та issubclass."
      ]
    },
    {
      "cell_type": "code",
      "execution_count": 85,
      "metadata": {
        "id": "L_V1bBvDM0GN"
      },
      "outputs": [
        {
          "name": "stdout",
          "output_type": "stream",
          "text": [
            "True\n",
            "True\n",
            "True\n",
            "True\n",
            "True\n",
            "False\n",
            "---\n",
            "False\n"
          ]
        },
        {
          "ename": "TypeError",
          "evalue": "issubclass() arg 1 must be a class",
          "output_type": "error",
          "traceback": [
            "\u001b[31m---------------------------------------------------------------------------\u001b[39m",
            "\u001b[31mTypeError\u001b[39m                                 Traceback (most recent call last)",
            "\u001b[36mCell\u001b[39m\u001b[36m \u001b[39m\u001b[32mIn[85]\u001b[39m\u001b[32m, line 20\u001b[39m\n\u001b[32m     17\u001b[39m \u001b[38;5;28mprint\u001b[39m(\u001b[33m\"\u001b[39m\u001b[33m---\u001b[39m\u001b[33m\"\u001b[39m)\n\u001b[32m     19\u001b[39m \u001b[38;5;28mprint\u001b[39m(\u001b[38;5;28misinstance\u001b[39m(Dog, Animal))\n\u001b[32m---> \u001b[39m\u001b[32m20\u001b[39m \u001b[38;5;28mprint\u001b[39m(\u001b[38;5;28;43missubclass\u001b[39;49m\u001b[43m(\u001b[49m\u001b[43mdog\u001b[49m\u001b[43m,\u001b[49m\u001b[43m \u001b[49m\u001b[43mAnimal\u001b[49m\u001b[43m)\u001b[49m)\n",
            "\u001b[31mTypeError\u001b[39m: issubclass() arg 1 must be a class"
          ]
        }
      ],
      "source": [
        "class Animal:\n",
        "    pass\n",
        "\n",
        "class Dog(Animal):\n",
        "    pass\n",
        "\n",
        "dog = Dog()\n",
        "\n",
        "print(isinstance(dog, Dog))\n",
        "print(isinstance(dog, Animal))\n",
        "print(isinstance(dog, object))\n",
        "\n",
        "print(issubclass(Dog, Animal))\n",
        "print(issubclass(Dog, object))\n",
        "print(issubclass(Animal, Dog))\n",
        "\n",
        "print(\"---\")\n",
        "\n",
        "print(isinstance(Dog, Animal))\n",
        "print(issubclass(dog, Animal))"
      ]
    },
    {
      "cell_type": "markdown",
      "metadata": {
        "id": "jjsaBZ-iM0Qq"
      },
      "source": [
        "8. (13б). Створіть клас EWallet з приватними атрибутами balance та id. Реалізуйте методи поповнення та зняття коштів, забезпечивши належну інкапсуляцію. Підказка: використовуйте декоратори property та setter."
      ]
    },
    {
      "cell_type": "code",
      "execution_count": 91,
      "metadata": {
        "id": "xCvZ7lh8M7YA"
      },
      "outputs": [
        {
          "name": "stdout",
          "output_type": "stream",
          "text": [
            "Wallet balance: 100.0$\n",
            "Deposited 50.0$. New balance: $150.0\n",
            "Withdrew 30.0$. New balance: $120.0\n",
            "Error!\n",
            "Final balance: 120.0\n"
          ]
        }
      ],
      "source": [
        "class EWallet:\n",
        "    def __init__(self, wallet_id, initial_balance = 0.0):\n",
        "        self.__id = wallet_id\n",
        "        self.__balance = initial_balance\n",
        "\n",
        "    @property\n",
        "    def id(self):\n",
        "        return self.__id\n",
        "\n",
        "    @property\n",
        "    def balance(self):\n",
        "        return self.__balance\n",
        "\n",
        "    @balance.setter\n",
        "    def balance(self, amount):\n",
        "        if amount < 0:\n",
        "            raise ValueError(\"Error!\")\n",
        "        self.__balance = amount\n",
        "\n",
        "    def deposit(self, amount):\n",
        "        if amount <= 0:\n",
        "            raise ValueError(\"Error!\")\n",
        "        self.__balance += amount\n",
        "        print(f\"Deposited {amount}$. New balance: ${self.__balance}\")\n",
        "\n",
        "    def withdraw(self, amount):\n",
        "        if amount <= 0:\n",
        "            raise ValueError(\"Error!\")\n",
        "        if amount > self.__balance:\n",
        "            raise ValueError(\"Error!!\")\n",
        "        self.__balance -= amount\n",
        "        print(f\"Withdrew {amount}$. New balance: ${self.__balance}\")\n",
        "\n",
        "\n",
        "wallet = EWallet(wallet_id = \"0001\", initial_balance = 100.0)\n",
        "print(f\"Wallet balance: {wallet.balance}$\")\n",
        "\n",
        "wallet.deposit(50.0)\n",
        "wallet.withdraw(30.0)\n",
        "\n",
        "try:\n",
        "    wallet.balance = -20\n",
        "except ValueError as e:\n",
        "    print(e)\n",
        "\n",
        "print(f\"Final balance: {wallet.balance}\")\n"
      ]
    },
    {
      "cell_type": "markdown",
      "metadata": {
        "id": "tIzL2SJTM8ft"
      },
      "source": [
        "9. (11б). Створіть клас ShoppingCart, який містить список об'єктів типу Item. Реалізуйте методи для додавання айтемів, їх видалення та відображення списку айтемів."
      ]
    },
    {
      "cell_type": "code",
      "execution_count": null,
      "metadata": {
        "id": "HWxfJKLtNAUZ"
      },
      "outputs": [
        {
          "name": "stdout",
          "output_type": "stream",
          "text": [
            "Items in your shopping cart:\n",
            "   Laptop: $1749\n",
            "   Headphones: $57\n",
            "   Webcam: $159\n",
            "Item 'Headphones' has been removed from the cart!!!\n",
            "Items in your shopping cart:\n",
            "   Laptop: $1749\n",
            "   Webcam: $159\n"
          ]
        }
      ],
      "source": [
        "class Item:\n",
        "    def __init__(self, name, price):\n",
        "        self.name = name\n",
        "        self.price = price\n",
        "\n",
        "    def __str__(self):\n",
        "        return f\"   {self.name}: ${self.price}\"\n",
        "\n",
        "class ShoppingCart:\n",
        "    def __init__(self):\n",
        "        self.items = []\n",
        "\n",
        "    def add_item(self, item):\n",
        "        self.items.append(item)\n",
        "\n",
        "    def remove_item(self, item_name):\n",
        "        for item in self.items:\n",
        "            if item.name == item_name:\n",
        "                self.items.remove(item)\n",
        "                print(f\"Item '{item_name}' has been removed from the cart!!!\")\n",
        "                return\n",
        "        print(f\"Item '{item_name}' not found in the cart!!!\")\n",
        "\n",
        "    def display_items(self):\n",
        "        if self.items:\n",
        "            print(\"Items in your shopping cart:\")\n",
        "            for item in self.items:\n",
        "                print(item)\n",
        "        else:\n",
        "            print(\"Your shopping cart is empty.\")\n",
        "\n",
        "\n",
        "item1 = Item(\"Laptop\", 1749)\n",
        "item2 = Item(\"Headphones\", 57)\n",
        "item3 = Item(\"Webcam\", 159)\n",
        "\n",
        "cart = ShoppingCart()\n",
        "cart.add_item(item1)\n",
        "cart.add_item(item2)\n",
        "cart.add_item(item3)\n",
        "\n",
        "cart.display_items()\n",
        "\n",
        "cart.remove_item(\"Headphones\")\n",
        "cart.display_items()\n"
      ]
    },
    {
      "cell_type": "markdown",
      "metadata": {
        "id": "lmV8pAwwNIqu"
      },
      "source": [
        "10. (13б). Створіть клас Vehicle з атрибутами brand (manufacturer) та production_age. Створіть ще один клас Engine з такими атрибутами, як type (ex. petrol) та size (volume, litres). Створіть клас Car, який успадковує обидва класи Vehicle та Engine. Продемонструйте використання множинної спадковості, створивши обʼєкт класу Car та отримавши mro для цього класу."
      ]
    },
    {
      "cell_type": "code",
      "execution_count": 87,
      "metadata": {
        "id": "R49grKlWNPeN"
      },
      "outputs": [
        {
          "name": "stdout",
          "output_type": "stream",
          "text": [
            "(<class '__main__.Car'>, <class '__main__.Vehicle'>, <class '__main__.Engine'>, <class 'object'>)\n"
          ]
        }
      ],
      "source": [
        "class Vehicle:\n",
        "    def __init__(self, brand, production_age):\n",
        "        self.brand = brand\n",
        "        self.production_age = production_age\n",
        "\n",
        "class Engine:\n",
        "    def __init__(self, type, size):\n",
        "        self.type = type\n",
        "        self.size = size\n",
        "\n",
        "class Car(Vehicle, Engine):\n",
        "    def __init__(self, brand, production_age, engine_type, engine_size):\n",
        "        Vehicle.__init__(self, brand, production_age)\n",
        "        Engine.__init__(self, engine_type, engine_size)\n",
        "\n",
        "car = Car(\"Toyota RAV4 2021\", 4, \"Hybrid\", 2.5)\n",
        "print(Car.__mro__)"
      ]
    },
    {
      "cell_type": "markdown",
      "metadata": {
        "id": "dIJyUiNBFG8G"
      },
      "source": [
        "# II. Iterator"
      ]
    },
    {
      "cell_type": "markdown",
      "metadata": {
        "id": "13vsm0NyKIzL"
      },
      "source": [
        "11. (4б). Визначте рядок(str) з 4ма різними за значенням символами. Створіть ітератор на основі цього рядка. Викличте 5 разів функцію next на ітераторі, 4ри перших з них огорніть у ф-цію print()."
      ]
    },
    {
      "cell_type": "code",
      "execution_count": 88,
      "metadata": {
        "id": "81ntabAkKuz-"
      },
      "outputs": [
        {
          "name": "stdout",
          "output_type": "stream",
          "text": [
            "3\n",
            "F\n",
            "d\n",
            "$\n"
          ]
        },
        {
          "data": {
            "text/plain": [
              "'3'"
            ]
          },
          "execution_count": 88,
          "metadata": {},
          "output_type": "execute_result"
        }
      ],
      "source": [
        "str_var = \"3Fd$\"\n",
        "iter_var = iter(str_var)\n",
        "\n",
        "for i in range(4):\n",
        "    print(next(iter_var))\n",
        "    \n",
        "next(iter(str_var))"
      ]
    },
    {
      "cell_type": "markdown",
      "metadata": {
        "id": "aekWHGXOLRsO"
      },
      "source": [
        "А що якщо викликати цю ж функцію на рядку?"
      ]
    },
    {
      "cell_type": "code",
      "execution_count": 89,
      "metadata": {
        "id": "mxATGsErLV1i"
      },
      "outputs": [
        {
          "ename": "TypeError",
          "evalue": "'str' object is not an iterator",
          "output_type": "error",
          "traceback": [
            "\u001b[31m---------------------------------------------------------------------------\u001b[39m",
            "\u001b[31mTypeError\u001b[39m                                 Traceback (most recent call last)",
            "\u001b[36mCell\u001b[39m\u001b[36m \u001b[39m\u001b[32mIn[89]\u001b[39m\u001b[32m, line 1\u001b[39m\n\u001b[32m----> \u001b[39m\u001b[32m1\u001b[39m \u001b[38;5;28;43mnext\u001b[39;49m\u001b[43m(\u001b[49m\u001b[33;43m\"\u001b[39;49m\u001b[33;43m3Fd$\u001b[39;49m\u001b[33;43m\"\u001b[39;49m\u001b[43m)\u001b[49m\n",
            "\u001b[31mTypeError\u001b[39m: 'str' object is not an iterator"
          ]
        }
      ],
      "source": [
        "next(\"3Fd$\")"
      ]
    },
    {
      "cell_type": "markdown",
      "metadata": {
        "id": "XwtMEopwJ4pH"
      },
      "source": [
        " 12. (5б). Опишіть своїми словами в одному реченні, як ви розумієте різницю між ітерабельними обʼєктами та ітераторами (можна на прикладі)."
      ]
    },
    {
      "cell_type": "markdown",
      "metadata": {
        "id": "-sHrODc3KFn8"
      },
      "source": [
        "1. Ітерабельний об'єкт - це об'єкт, котрий можна проітерувати (перебрати).\n",
        "2. Iтератор - це об'єкт, котрий керує процесом ітерування іншого об'єкту, що називається ітерабельним.\n"
      ]
    },
    {
      "cell_type": "markdown",
      "metadata": {
        "id": "E9qJWmNbK8Gl"
      },
      "source": [
        "13. (11б). Створіть клас, що має визначений Iterator Protocol та при кожному виклику next повертає назву дня тижня, поки вони не вичерпаються. Зверніть увагу, що порядок має значення."
      ]
    },
    {
      "cell_type": "code",
      "execution_count": 90,
      "metadata": {
        "id": "cqx-g_RsLo6I"
      },
      "outputs": [
        {
          "name": "stdout",
          "output_type": "stream",
          "text": [
            "Понеділок\n",
            "Вівторок\n",
            "Середа\n",
            "Четвер\n",
            "П'ятниця\n",
            "Субота\n",
            "Неділя\n"
          ]
        }
      ],
      "source": [
        "class WeekSchedule:\n",
        "    def __init__(self):\n",
        "        self.days_of_week = [\"Понеділок\", \"Вівторок\", \"Середа\", \"Четвер\", \"П'ятниця\", \"Субота\", \"Неділя\"]\n",
        "        self.current_day_index = 0\n",
        "\n",
        "    def __iter__(self):\n",
        "        return self\n",
        "    \n",
        "    def __next__(self):\n",
        "        if self.current_day_index >= len(self.days_of_week):\n",
        "            raise StopIteration\n",
        "        else:\n",
        "            current_day_name = self.days_of_week[self.current_day_index]\n",
        "            self.current_day_index += 1\n",
        "            return current_day_name\n",
        "\n",
        "w = WeekSchedule()\n",
        "\n",
        "for item in w:\n",
        "    print(item)\n",
        "\n",
        "    "
      ]
    },
    {
      "cell_type": "markdown",
      "metadata": {
        "id": "Z3E3S_s1Fv7-"
      },
      "source": [
        "# Вітаю! Ви велика(ий) молодець, що впоралась(вся). Похваліть себе та побалуйте чимось приємним. Я Вами пишаюся."
      ]
    }
  ],
  "metadata": {
    "colab": {
      "provenance": []
    },
    "kernelspec": {
      "display_name": "Python 3",
      "name": "python3"
    },
    "language_info": {
      "codemirror_mode": {
        "name": "ipython",
        "version": 3
      },
      "file_extension": ".py",
      "mimetype": "text/x-python",
      "name": "python",
      "nbconvert_exporter": "python",
      "pygments_lexer": "ipython3",
      "version": "3.11.9"
    }
  },
  "nbformat": 4,
  "nbformat_minor": 0
}
